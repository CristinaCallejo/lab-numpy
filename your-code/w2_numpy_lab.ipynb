{
 "cells": [
  {
   "cell_type": "code",
   "execution_count": 1,
   "id": "labeled-bunny",
   "metadata": {},
   "outputs": [],
   "source": [
    "import numpy as np\n",
    "import random\n",
    "import pandas as pd"
   ]
  },
  {
   "cell_type": "code",
   "execution_count": 2,
   "id": "strange-pillow",
   "metadata": {},
   "outputs": [
    {
     "name": "stdout",
     "output_type": "stream",
     "text": [
      "1.19.5\n"
     ]
    }
   ],
   "source": [
    "print(np.version.version)"
   ]
  },
  {
   "cell_type": "code",
   "execution_count": 3,
   "id": "animated-anatomy",
   "metadata": {},
   "outputs": [],
   "source": [
    "#3. Generate a 2x3x5 3-dimensional array with random values. \n",
    "# Assign the array to variable \"a\"\n",
    "# Challenge: there are at least three easy ways that use numpy to generate random arrays.\n",
    "# How many ways can you find?"
   ]
  },
  {
   "cell_type": "code",
   "execution_count": 4,
   "id": "circular-outline",
   "metadata": {},
   "outputs": [],
   "source": [
    "a = np.random.randint(0,10,size=(2,3,5))"
   ]
  },
  {
   "cell_type": "code",
   "execution_count": 5,
   "id": "british-metropolitan",
   "metadata": {},
   "outputs": [],
   "source": [
    "a2 = np.random.random((2,3,5))"
   ]
  },
  {
   "cell_type": "code",
   "execution_count": 6,
   "id": "crazy-change",
   "metadata": {},
   "outputs": [],
   "source": [
    "a3 = np.random.rand(2,3,5)"
   ]
  },
  {
   "cell_type": "code",
   "execution_count": 7,
   "id": "vietnamese-muslim",
   "metadata": {},
   "outputs": [],
   "source": [
    "a4 = np.random.sample((2,3,5))"
   ]
  },
  {
   "cell_type": "code",
   "execution_count": 8,
   "id": "criminal-spread",
   "metadata": {},
   "outputs": [],
   "source": [
    "#4. Print a."
   ]
  },
  {
   "cell_type": "code",
   "execution_count": 9,
   "id": "chinese-coalition",
   "metadata": {},
   "outputs": [
    {
     "name": "stdout",
     "output_type": "stream",
     "text": [
      "[[[3 8 0 3 8]\n",
      "  [1 7 1 4 7]\n",
      "  [9 5 0 6 2]]\n",
      "\n",
      " [[6 6 4 4 6]\n",
      "  [1 1 4 7 7]\n",
      "  [5 6 6 8 8]]]\n"
     ]
    }
   ],
   "source": [
    "print(a)"
   ]
  },
  {
   "cell_type": "code",
   "execution_count": 10,
   "id": "smaller-problem",
   "metadata": {},
   "outputs": [],
   "source": [
    "#5. Create a 5x2x3 3-dimensional array with all values equaling 1.\n",
    "#Assign the array to variable \"b\""
   ]
  },
  {
   "cell_type": "code",
   "execution_count": 11,
   "id": "handmade-stable",
   "metadata": {},
   "outputs": [],
   "source": [
    "b = np.ones((5,2,3))"
   ]
  },
  {
   "cell_type": "code",
   "execution_count": 12,
   "id": "threaded-birthday",
   "metadata": {},
   "outputs": [],
   "source": [
    "#6. Print b."
   ]
  },
  {
   "cell_type": "code",
   "execution_count": 13,
   "id": "understanding-moisture",
   "metadata": {},
   "outputs": [
    {
     "name": "stdout",
     "output_type": "stream",
     "text": [
      "[[[1. 1. 1.]\n",
      "  [1. 1. 1.]]\n",
      "\n",
      " [[1. 1. 1.]\n",
      "  [1. 1. 1.]]\n",
      "\n",
      " [[1. 1. 1.]\n",
      "  [1. 1. 1.]]\n",
      "\n",
      " [[1. 1. 1.]\n",
      "  [1. 1. 1.]]\n",
      "\n",
      " [[1. 1. 1.]\n",
      "  [1. 1. 1.]]]\n"
     ]
    }
   ],
   "source": [
    "print(b)"
   ]
  },
  {
   "cell_type": "code",
   "execution_count": 14,
   "id": "official-nashville",
   "metadata": {},
   "outputs": [],
   "source": [
    "#7. Do a and b have the same size? How do you prove that in Python code?"
   ]
  },
  {
   "cell_type": "code",
   "execution_count": 15,
   "id": "negative-numbers",
   "metadata": {},
   "outputs": [
    {
     "name": "stdout",
     "output_type": "stream",
     "text": [
      "False\n"
     ]
    }
   ],
   "source": [
    "print(a.shape == b.shape)"
   ]
  },
  {
   "cell_type": "code",
   "execution_count": 16,
   "id": "paperback-constitutional",
   "metadata": {},
   "outputs": [],
   "source": [
    "#8. Are you able to add a and b? Why or why not?"
   ]
  },
  {
   "cell_type": "markdown",
   "id": "dated-tennessee",
   "metadata": {},
   "source": [
    "**$a + b$ can't be added, they are of different shape, not possible**"
   ]
  },
  {
   "cell_type": "code",
   "execution_count": 17,
   "id": "acceptable-crystal",
   "metadata": {},
   "outputs": [],
   "source": [
    "#9. Transpose b so that it has the same structure of a (i.e. become a 2x3x5 array). Assign the transposed array to varialbe \"c\"."
   ]
  },
  {
   "cell_type": "code",
   "execution_count": 18,
   "id": "urban-yemen",
   "metadata": {},
   "outputs": [
    {
     "data": {
      "text/plain": [
       "array([[[1., 1., 1., 1., 1.],\n",
       "        [1., 1., 1., 1., 1.],\n",
       "        [1., 1., 1., 1., 1.]],\n",
       "\n",
       "       [[1., 1., 1., 1., 1.],\n",
       "        [1., 1., 1., 1., 1.],\n",
       "        [1., 1., 1., 1., 1.]]])"
      ]
     },
     "execution_count": 18,
     "metadata": {},
     "output_type": "execute_result"
    }
   ],
   "source": [
    "c = b.reshape(2,3,5)\n",
    "c\n"
   ]
  },
  {
   "cell_type": "markdown",
   "id": "entire-monday",
   "metadata": {},
   "source": [
    "test2 = np.random.randint(10,256,size=(2,3,5))\n",
    "test2.shape"
   ]
  },
  {
   "cell_type": "markdown",
   "id": "composed-chosen",
   "metadata": {},
   "source": [
    "test3 = np.random.randint(10,256,size=(10,10))\n",
    "test3.shape"
   ]
  },
  {
   "cell_type": "markdown",
   "id": "stuffed-blond",
   "metadata": {},
   "source": [
    "dfa = np.random.randint(0,10,size=(2,3))"
   ]
  },
  {
   "cell_type": "markdown",
   "id": "shaped-calvin",
   "metadata": {},
   "source": [
    "dfapd = pd.DataFrame(dfa)\n",
    "print(dfapd)"
   ]
  },
  {
   "cell_type": "code",
   "execution_count": 19,
   "id": "sufficient-billy",
   "metadata": {},
   "outputs": [],
   "source": [
    "#10. Try to add a and c. Now it should work. Assign the sum to varialbe \"d\". But why does it work now?"
   ]
  },
  {
   "cell_type": "markdown",
   "id": "minute-biology",
   "metadata": {},
   "source": [
    "**also valid numpy methods: np.add(a+c)**"
   ]
  },
  {
   "cell_type": "code",
   "execution_count": 20,
   "id": "gothic-precipitation",
   "metadata": {},
   "outputs": [],
   "source": [
    "d = a + c"
   ]
  },
  {
   "cell_type": "code",
   "execution_count": 21,
   "id": "detected-visitor",
   "metadata": {},
   "outputs": [],
   "source": [
    "#11. Print a and d. Notice the difference and relation of the two array in terms of the values? Explain."
   ]
  },
  {
   "cell_type": "markdown",
   "id": "seeing-mumbai",
   "metadata": {},
   "source": [
    "***for every value in a, it has added the corresponding value of array b***"
   ]
  },
  {
   "cell_type": "code",
   "execution_count": 22,
   "id": "diverse-absolute",
   "metadata": {
    "scrolled": true
   },
   "outputs": [
    {
     "name": "stdout",
     "output_type": "stream",
     "text": [
      "[[[3 8 0 3 8]\n",
      "  [1 7 1 4 7]\n",
      "  [9 5 0 6 2]]\n",
      "\n",
      " [[6 6 4 4 6]\n",
      "  [1 1 4 7 7]\n",
      "  [5 6 6 8 8]]]\n",
      "[[[ 4.  9.  1.  4.  9.]\n",
      "  [ 2.  8.  2.  5.  8.]\n",
      "  [10.  6.  1.  7.  3.]]\n",
      "\n",
      " [[ 7.  7.  5.  5.  7.]\n",
      "  [ 2.  2.  5.  8.  8.]\n",
      "  [ 6.  7.  7.  9.  9.]]]\n"
     ]
    }
   ],
   "source": [
    "print(a)\n",
    "print(d)\n"
   ]
  },
  {
   "cell_type": "code",
   "execution_count": 23,
   "id": "laughing-confidence",
   "metadata": {},
   "outputs": [],
   "source": [
    "#12. Multiply a and c. Assign the result to e."
   ]
  },
  {
   "cell_type": "code",
   "execution_count": 24,
   "id": "apparent-memory",
   "metadata": {},
   "outputs": [
    {
     "name": "stdout",
     "output_type": "stream",
     "text": [
      "[[[3. 8. 0. 3. 8.]\n",
      "  [1. 7. 1. 4. 7.]\n",
      "  [9. 5. 0. 6. 2.]]\n",
      "\n",
      " [[6. 6. 4. 4. 6.]\n",
      "  [1. 1. 4. 7. 7.]\n",
      "  [5. 6. 6. 8. 8.]]]\n"
     ]
    }
   ],
   "source": [
    "e = a * c\n",
    "print(e)"
   ]
  },
  {
   "cell_type": "code",
   "execution_count": 25,
   "id": "breeding-palace",
   "metadata": {},
   "outputs": [],
   "source": [
    "#13. Does e equal to a? Why or why not?"
   ]
  },
  {
   "cell_type": "code",
   "execution_count": 26,
   "id": "australian-rebecca",
   "metadata": {
    "scrolled": true
   },
   "outputs": [
    {
     "name": "stdout",
     "output_type": "stream",
     "text": [
      "[[[3 8 0 3 8]\n",
      "  [1 7 1 4 7]\n",
      "  [9 5 0 6 2]]\n",
      "\n",
      " [[6 6 4 4 6]\n",
      "  [1 1 4 7 7]\n",
      "  [5 6 6 8 8]]]\n",
      "[[[3. 8. 0. 3. 8.]\n",
      "  [1. 7. 1. 4. 7.]\n",
      "  [9. 5. 0. 6. 2.]]\n",
      "\n",
      " [[6. 6. 4. 4. 6.]\n",
      "  [1. 1. 4. 7. 7.]\n",
      "  [5. 6. 6. 8. 8.]]]\n"
     ]
    }
   ],
   "source": [
    "print(a)\n",
    "print(e)"
   ]
  },
  {
   "cell_type": "code",
   "execution_count": 27,
   "id": "cooperative-offset",
   "metadata": {
    "scrolled": true
   },
   "outputs": [
    {
     "data": {
      "text/plain": [
       "array([[[ True,  True,  True,  True,  True],\n",
       "        [ True,  True,  True,  True,  True],\n",
       "        [ True,  True,  True,  True,  True]],\n",
       "\n",
       "       [[ True,  True,  True,  True,  True],\n",
       "        [ True,  True,  True,  True,  True],\n",
       "        [ True,  True,  True,  True,  True]]])"
      ]
     },
     "execution_count": 27,
     "metadata": {},
     "output_type": "execute_result"
    }
   ],
   "source": [
    "e == a\n",
    "# python understands the float of an integer as the integer value when it is a whole number ending in .0"
   ]
  },
  {
   "cell_type": "code",
   "execution_count": 28,
   "id": "overall-chorus",
   "metadata": {},
   "outputs": [],
   "source": [
    "#14. Identify the max, min, and mean values in d. Assign those values to variables \"d_max\", \"d_min\", and \"d_mean\""
   ]
  },
  {
   "cell_type": "code",
   "execution_count": 29,
   "id": "funny-spanking",
   "metadata": {},
   "outputs": [],
   "source": [
    "d_max = d.max()\n",
    "d_min = d.min()\n",
    "d_mean = d.mean()"
   ]
  },
  {
   "cell_type": "code",
   "execution_count": null,
   "id": "stylish-assignment",
   "metadata": {},
   "outputs": [],
   "source": [
    "#15. Now we want to label the values in d. \n",
    "# First create an empty array \"f\" \n",
    "# with the same shape (i.e. 2x3x5) as d \n",
    "# using `np.empty`."
   ]
  },
  {
   "cell_type": "code",
   "execution_count": 31,
   "id": "regulated-greek",
   "metadata": {},
   "outputs": [],
   "source": [
    "f = np.empty((2,3,5))"
   ]
  },
  {
   "cell_type": "code",
   "execution_count": 32,
   "id": "foreign-swift",
   "metadata": {},
   "outputs": [
    {
     "name": "stdout",
     "output_type": "stream",
     "text": [
      "[[[3. 8. 0. 3. 8.]\n",
      "  [1. 7. 1. 4. 7.]\n",
      "  [9. 5. 0. 6. 2.]]\n",
      "\n",
      " [[6. 6. 4. 4. 6.]\n",
      "  [1. 1. 4. 7. 7.]\n",
      "  [5. 6. 6. 8. 8.]]]\n"
     ]
    }
   ],
   "source": [
    "print(f)"
   ]
  },
  {
   "cell_type": "code",
   "execution_count": 42,
   "id": "numerous-tourist",
   "metadata": {},
   "outputs": [
    {
     "data": {
      "text/plain": [
       "\"\\n#16. Populate the values in f. \\n\\nFor each value in d, if it's larger than d_min but smaller than d_mean, assign 25 to the corresponding value in f.\\n\\nIf a value in d is larger than d_mean but smaller than d_max, assign 75 to the corresponding value in f.\\n\\nIf a value equals to d_mean, assign 50 to the corresponding value in f.\\n\\nAssign 0 to the corresponding value(s) in f for d_min in d.\\n\\nAssign 100 to the corresponding value(s) in f for d_max in d.\\n\\nIn the end, f should have only the following values: 0, 25, 50, 75, and 100.\\n\\nNote: you don't have to use Numpy in this question.\\n\""
      ]
     },
     "execution_count": 42,
     "metadata": {},
     "output_type": "execute_result"
    }
   ],
   "source": [
    "\n",
    "\"\"\"\n",
    "#16. Populate the values in f. \n",
    "\n",
    "For each value in d, if it's larger than d_min but smaller than d_mean, assign 25 to the corresponding value in f.\n",
    "\n",
    "If a value in d is larger than d_mean but smaller than d_max, assign 75 to the corresponding value in f.\n",
    "\n",
    "If a value equals to d_mean, assign 50 to the corresponding value in f.\n",
    "\n",
    "Assign 0 to the corresponding value(s) in f for d_min in d.\n",
    "\n",
    "Assign 100 to the corresponding value(s) in f for d_max in d.\n",
    "\n",
    "In the end, f should have only the following values: 0, 25, 50, 75, and 100.\n",
    "\n",
    "Note: you don't have to use Numpy in this question.\n",
    "\"\"\""
   ]
  },
  {
   "cell_type": "code",
   "execution_count": 43,
   "id": "collect-times",
   "metadata": {},
   "outputs": [],
   "source": [
    "f[(d_min < d) & (d < d_mean)] = 25\n",
    "f[(d_mean < d) & (d < d_max)] = 75\n",
    "f[d_mean == d] = 50\n",
    "f[d_min == d] = 0\n",
    "f[d_max == d] = 100"
   ]
  },
  {
   "cell_type": "markdown",
   "id": "precise-company",
   "metadata": {},
   "source": [
    "\n",
    "\"\"\"\n",
    "#17. Print d and f. Do you have your expected f?\n",
    "For instance, if your d is:\n",
    "array([[[1.85836099, 1.67064465, 1.62576044, 1.40243961, 1.88454931],\n",
    "        [1.75354326, 1.69403643, 1.36729252, 1.61415071, 1.12104981],\n",
    "        [1.72201435, 1.1862918 , 1.87078449, 1.7726778 , 1.88180042]],\n",
    "\n",
    "       [[1.44747908, 1.31673383, 1.02000951, 1.52218947, 1.97066381],\n",
    "        [1.79129243, 1.74983003, 1.96028037, 1.85166831, 1.65450881],\n",
    "        [1.18068344, 1.9587381 , 1.00656599, 1.93402165, 1.73514584]]])\n",
    "\n",
    "Your f should be:\n",
    "array([[[ 75.,  75.,  75.,  25.,  75.],\n",
    "        [ 75.,  75.,  25.,  25.,  25.],\n",
    "        [ 75.,  25.,  75.,  75.,  75.]],\n",
    "\n",
    "       [[ 25.,  25.,  25.,  25., 100.],\n",
    "        [ 75.,  75.,  75.,  75.,  75.],\n",
    "        [ 25.,  75.,   0.,  75.,  75.]]])\n",
    "\"\"\""
   ]
  },
  {
   "cell_type": "code",
   "execution_count": 36,
   "id": "potential-vocabulary",
   "metadata": {},
   "outputs": [
    {
     "name": "stdout",
     "output_type": "stream",
     "text": [
      "[[[ 4.  9.  1.  4.  9.]\n",
      "  [ 2.  8.  2.  5.  8.]\n",
      "  [10.  6.  1.  7.  3.]]\n",
      "\n",
      " [[ 7.  7.  5.  5.  7.]\n",
      "  [ 2.  2.  5.  8.  8.]\n",
      "  [ 6.  7.  7.  9.  9.]]]\n"
     ]
    }
   ],
   "source": [
    "print(d)"
   ]
  },
  {
   "cell_type": "code",
   "execution_count": 37,
   "id": "third-criterion",
   "metadata": {
    "scrolled": true
   },
   "outputs": [
    {
     "name": "stdout",
     "output_type": "stream",
     "text": [
      "[[[ 25.  75.   0.  25.  75.]\n",
      "  [ 25.  75.  25.  25.  75.]\n",
      "  [100.  75.   0.  75.  25.]]\n",
      "\n",
      " [[ 75.  75.  25.  25.  75.]\n",
      "  [ 25.  25.  25.  75.  75.]\n",
      "  [ 75.  75.  75.  75.  75.]]]\n"
     ]
    }
   ],
   "source": [
    "print(f)"
   ]
  },
  {
   "cell_type": "markdown",
   "id": "progressive-baker",
   "metadata": {},
   "source": [
    "\n",
    "\"\"\"\n",
    "#18. Bonus question: instead of using numbers (i.e. 0, 25, 50, 75, and 100), how to use string values \n",
    "(\"A\", \"B\", \"C\", \"D\", and \"E\") to label the array elements? You are expecting the result to be:\n",
    "array([[[ 'D',  'D',  'D',  'B',  'D'],\n",
    "        [ 'D',  'D',  'B',  'B',  'B'],\n",
    "        [ 'D',  'B',  'D',  'D',  'D']],\n",
    "\n",
    "       [[ 'B',  'B',  'B',  'B',  'E'],\n",
    "        [ 'D',  'D',  'D',  'D',  'D'],\n",
    "        [ 'B',  'D',   'A',  'D', 'D']]])\n",
    "Again, you don't need Numpy in this question.\n",
    "\"\"\""
   ]
  },
  {
   "cell_type": "code",
   "execution_count": 39,
   "id": "unusual-evaluation",
   "metadata": {},
   "outputs": [],
   "source": [
    "f2 = np.empty((2,3,5),dtype = object)"
   ]
  },
  {
   "cell_type": "code",
   "execution_count": 40,
   "id": "powerful-farming",
   "metadata": {},
   "outputs": [],
   "source": [
    "f2[(d_min < d) & (d < d_mean)] = \"B\"\n",
    "f2[(d_mean < d) & (d < d_max)] = \"D\"\n",
    "f2[d_mean == d] = \"C\"\n",
    "f2[d_min == d] = \"A\"\n",
    "f2[d_max == d] = \"E\""
   ]
  },
  {
   "cell_type": "code",
   "execution_count": 41,
   "id": "black-liberal",
   "metadata": {
    "scrolled": true
   },
   "outputs": [
    {
     "name": "stdout",
     "output_type": "stream",
     "text": [
      "[[['B' 'D' 'A' 'B' 'D']\n",
      "  ['B' 'D' 'B' 'B' 'D']\n",
      "  ['E' 'D' 'A' 'D' 'B']]\n",
      "\n",
      " [['D' 'D' 'B' 'B' 'D']\n",
      "  ['B' 'B' 'B' 'D' 'D']\n",
      "  ['D' 'D' 'D' 'D' 'D']]]\n"
     ]
    }
   ],
   "source": [
    "print(f2)"
   ]
  }
 ],
 "metadata": {
  "kernelspec": {
   "display_name": "Python 3",
   "language": "python",
   "name": "python3"
  },
  "language_info": {
   "codemirror_mode": {
    "name": "ipython",
    "version": 3
   },
   "file_extension": ".py",
   "mimetype": "text/x-python",
   "name": "python",
   "nbconvert_exporter": "python",
   "pygments_lexer": "ipython3",
   "version": "3.8.5"
  },
  "toc": {
   "base_numbering": 1,
   "nav_menu": {},
   "number_sections": false,
   "sideBar": true,
   "skip_h1_title": false,
   "title_cell": "Table of Contents",
   "title_sidebar": "Contents",
   "toc_cell": false,
   "toc_position": {},
   "toc_section_display": true,
   "toc_window_display": false
  },
  "varInspector": {
   "cols": {
    "lenName": 16,
    "lenType": 16,
    "lenVar": 40
   },
   "kernels_config": {
    "python": {
     "delete_cmd_postfix": "",
     "delete_cmd_prefix": "del ",
     "library": "var_list.py",
     "varRefreshCmd": "print(var_dic_list())"
    },
    "r": {
     "delete_cmd_postfix": ") ",
     "delete_cmd_prefix": "rm(",
     "library": "var_list.r",
     "varRefreshCmd": "cat(var_dic_list()) "
    }
   },
   "types_to_exclude": [
    "module",
    "function",
    "builtin_function_or_method",
    "instance",
    "_Feature"
   ],
   "window_display": false
  }
 },
 "nbformat": 4,
 "nbformat_minor": 5
}
